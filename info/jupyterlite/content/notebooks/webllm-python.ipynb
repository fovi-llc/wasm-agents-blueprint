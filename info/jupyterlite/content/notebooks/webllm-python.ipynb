{
 "cells": [
  {
   "cell_type": "markdown",
   "id": "93505ca7",
   "metadata": {},
   "source": [
    "# WebLLM from Python (JupyterLite)\n",
    "\n",
    "This notebook runs entirely in the browser with JupyterLite. It shows how to spin up a WebLLM worker and await responses from Python code running on Pyodide."
   ]
  },
  {
   "cell_type": "markdown",
   "id": "4c3e1605",
   "metadata": {},
   "source": [
    "The first cell loads the WebLLM library and registers a helper on the page.\n",
    "The helper hides the worker boilerplate so the rest of the notebook can focus on agent logic."
   ]
  },
  {
   "cell_type": "code",
   "execution_count": null,
   "id": "b9d64d4b",
   "metadata": {},
   "outputs": [],
   "source": [
    "import js\n",
    "\n",
    "await js.eval(\"\"\"\n",
    "(async () => {\n",
    "  if (!globalThis.webllmHelpers) {\n",
    "    const workerSource = `\n",
    "      import { WebWorkerMLCEngineHandler } from \\\"https://esm.run/@mlc-ai/web-llm\\\";\n",
    "      const handler = new WebWorkerMLCEngineHandler();\n",
    "      self.onmessage = (msg) => handler.onmessage(msg);\n",
    "    `;\n",
    "    const module = await import(\"https://esm.run/@mlc-ai/web-llm\");\n",
    "    const workerURL = URL.createObjectURL(new Blob([workerSource], { type: \"application/javascript\" }));\n",
    "    globalThis.webllmHelpers = {\n",
    "      module,\n",
    "      workerURL,\n",
    "      async createEngine(model, options = {}) {\n",
    "        const worker = new Worker(workerURL, { type: \"module\" });\n",
    "        return await module.CreateWebWorkerMLCEngine(worker, model, options);\n",
    "      },\n",
    "      async chat(engine, request) {\n",
    "        return await engine.chat.completions.create(request);\n",
    "      },\n",
    "      async stream(engine, request, callbacks = {}) {\n",
    "        const stream = await engine.chat.completions.create({ ...request, stream: true });\n",
    "        for await (const chunk of stream) {\n",
    "          callbacks.onChunk?.(chunk);\n",
    "        }\n",
    "        return await engine.getMessage();\n",
    "      }\n",
    "    };\n",
    "    console.log(\"WebLLM helpers initialised.\");\n",
    "  }\n",
    "})();\n",
    "\"\"\")\n"
   ]
  },
  {
   "cell_type": "markdown",
   "id": "adc1015d",
   "metadata": {},
   "source": [
    "Next we wrap the helper in Python-friendly functions.\n",
    "`load_engine` pulls a model into a dedicated worker, `ask` runs a standard completion, and `stream` demonstrates token streaming."
   ]
  },
  {
   "cell_type": "code",
   "execution_count": null,
   "id": "c3f9fd17",
   "metadata": {},
   "outputs": [],
   "source": [
    "import js\n",
    "from pyodide.ffi import create_proxy, to_js\n",
    "\n",
    "progress_proxies = []\n",
    "\n",
    "async def load_engine(model=\"SmolLM2-360M-Instruct-q0f16-MLC\"):\n",
    "    helpers = js.webllmHelpers\n",
    "\n",
    "    def handle_progress(report):\n",
    "        data = report.to_py()\n",
    "        text = data.get(\"text\", \"\")\n",
    "        if text:\n",
    "            print(text)\n",
    "\n",
    "    progress_proxy = create_proxy(handle_progress)\n",
    "    progress_proxies.append(progress_proxy)\n",
    "    options = {\"initProgressCallback\": progress_proxy}\n",
    "    engine = await helpers.createEngine(model, options)\n",
    "    return engine\n",
    "\n",
    "async def ask(engine, prompt):\n",
    "    request = {\n",
    "        \"messages\": [\n",
    "            {\n",
    "                \"role\": \"system\",\n",
    "                \"content\": \"You are a concise assistant running inside a JupyterLite notebook.\"\n",
    "            },\n",
    "            {\"role\": \"user\", \"content\": prompt}\n",
    "        ],\n",
    "        \"temperature\": 0.2,\n",
    "        \"max_tokens\": 128\n",
    "    }\n",
    "    js_request = to_js(request, dict_converter=js.Object.fromEntries)\n",
    "    response = await js.webllmHelpers.chat(engine, js_request)\n",
    "    data = response.to_py()\n",
    "    return data[\"choices\"][0][\"message\"][\"content\"]\n",
    "\n",
    "async def stream(engine, prompt):\n",
    "    chunks = []\n",
    "\n",
    "    def on_chunk(chunk):\n",
    "        payload = chunk.to_py()\n",
    "        delta = payload[\"choices\"][0].get(\"delta\", {})\n",
    "        text = delta.get(\"content\", \"\")\n",
    "        if text:\n",
    "            chunks.append(text)\n",
    "            print(text, end=\"\")\n",
    "\n",
    "    chunk_proxy = create_proxy(on_chunk)\n",
    "    request = {\n",
    "        \"messages\": [\n",
    "            {\"role\": \"system\", \"content\": \"Stream tokens like a story narrator.\"},\n",
    "            {\"role\": \"user\", \"content\": prompt}\n",
    "        ],\n",
    "        \"temperature\": 0.6,\n",
    "        \"max_tokens\": 128,\n",
    "        \"stream\": True,\n",
    "        \"stream_options\": {\"include_usage\": True}\n",
    "    }\n",
    "    js_request = to_js(request, dict_converter=js.Object.fromEntries)\n",
    "    await js.webllmHelpers.stream(engine, js_request, {\"onChunk\": chunk_proxy})\n",
    "    chunk_proxy.destroy()\n",
    "    print()\n",
    "    return \"\".join(chunks)\n"
   ]
  },
  {
   "cell_type": "markdown",
   "id": "3fd8145f",
   "metadata": {},
   "source": [
    "Load a small chat model. The first run will download model weights into the browser cache."
   ]
  },
  {
   "cell_type": "code",
   "execution_count": null,
   "id": "09ea7b60",
   "metadata": {},
   "outputs": [],
   "source": [
    "engine = await load_engine()\n",
    "engine"
   ]
  },
  {
   "cell_type": "markdown",
   "id": "5eb98900",
   "metadata": {},
   "source": [
    "Ask a question and display the assistant's reply."
   ]
  },
  {
   "cell_type": "code",
   "execution_count": null,
   "id": "80585a03",
   "metadata": {},
   "outputs": [],
   "source": [
    "await ask(engine, \"Summarize why running language models directly in the browser is exciting.\")"
   ]
  },
  {
   "cell_type": "markdown",
   "id": "3179fe2a",
   "metadata": {},
   "source": [
    "Streaming also works from Python:\n",
    "TODO: Actually it doesn't, so fit it."
   ]
  },
  {
   "cell_type": "code",
   "execution_count": null,
   "id": "ca43737d",
   "metadata": {},
   "outputs": [],
   "source": [
    "await stream(engine, \"Compose a short haiku about notebooks that talk back.\")"
   ]
  },
  {
   "cell_type": "code",
   "execution_count": null,
   "id": "0ba5f7f6",
   "metadata": {},
   "outputs": [],
   "source": [
    "print(await ask(engine, \"Compose a short haiku about notebooks that talk back.\"))"
   ]
  }
 ],
 "metadata": {
  "kernelspec": {
   "display_name": "Python (Pyodide)",
   "language": "python",
   "name": "python"
  },
  "language_info": {
   "codemirror_mode": {
    "name": "python",
    "version": 3
   },
   "file_extension": ".py",
   "mimetype": "text/x-python",
   "name": "python",
   "nbconvert_exporter": "python",
   "pygments_lexer": "ipython3",
   "version": "3.12"
  }
 },
 "nbformat": 4,
 "nbformat_minor": 5
}
